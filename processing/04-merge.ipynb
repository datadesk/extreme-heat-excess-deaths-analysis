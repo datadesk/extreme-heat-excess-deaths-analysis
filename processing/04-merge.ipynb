{
 "cells": [
  {
   "cell_type": "markdown",
   "id": "f45abce8-b296-49d5-b4ef-8a26cab29043",
   "metadata": {},
   "source": [
    "# Merge\n",
    "\n",
    "Combine data files into a CSV that's ready for analysis"
   ]
  },
  {
   "cell_type": "code",
   "execution_count": 29,
   "id": "2296ad02-2123-4eb6-9c77-e6714a23ed3d",
   "metadata": {},
   "outputs": [],
   "source": [
    "import pandas as pd"
   ]
  },
  {
   "cell_type": "markdown",
   "id": "76d54877-0e0b-4b28-aa36-c309cb615085",
   "metadata": {},
   "source": [
    "Import data files"
   ]
  },
  {
   "cell_type": "code",
   "execution_count": 30,
   "id": "fd983601-433b-463b-9506-b20d18057815",
   "metadata": {},
   "outputs": [],
   "source": [
    "deaths_df = pd.read_csv(\n",
    "    \"../input/processed/death-records.csv\",\n",
    "    parse_dates=[\"date_of_death\", \"date_of_birth\"],\n",
    "    dtype={\n",
    "        \"last_name\": str,\n",
    "        \"first_name\": str,\n",
    "        \"middle_name\": str,\n",
    "        \"sex\": str,\n",
    "        \"place_of_birth_state_or_foreign_country\": str,\n",
    "        \"place_of_death_county\": str,\n",
    "        \"fathers_last_name\": str,\n",
    "        \"file_name\": str,\n",
    "        \"file_year\": int,\n",
    "        \"year_of_death\": int,\n",
    "        \"death_facility_name_location\": str,\n",
    "        \"place_of_death_address_street_number\": str,\n",
    "        \"place_of_death_address_street\": str,\n",
    "        \"place_of_death_city\": str,\n",
    "        \"father's_last_name\": str,\n",
    "        \"place_of_death_facility\": str,\n",
    "        \"place_of_death_facility_name_location\": str,\n",
    "        \"place_of_death_address_street_name\": str,\n",
    "        \"export_date\": str,\n",
    "        \"father_last_name\": str\n",
    "    }\n",
    ")"
   ]
  },
  {
   "cell_type": "code",
   "execution_count": 31,
   "id": "7485e4d1-4519-405b-b6b9-c54b2c0507c1",
   "metadata": {},
   "outputs": [],
   "source": [
    "pops_df = pd.read_csv(\"../input/raw/dof/county-populations.csv\")"
   ]
  },
  {
   "cell_type": "code",
   "execution_count": 32,
   "id": "c3d373e7-40b5-498c-9e16-becd2e2d8899",
   "metadata": {},
   "outputs": [],
   "source": [
    "recent_temps_df = pd.read_csv(\n",
    "    \"../input/processed/recent-temps-by-county.csv\",\n",
    "    parse_dates=[\"date\"]\n",
    ")"
   ]
  },
  {
   "cell_type": "code",
   "execution_count": 33,
   "id": "64ddd900-8178-4b79-9420-471a70246e0d",
   "metadata": {},
   "outputs": [],
   "source": [
    "historic_temps_df = pd.read_csv(\n",
    "    \"../input/processed/historic-temps-by-county.csv\",\n",
    ")"
   ]
  },
  {
   "cell_type": "markdown",
   "id": "51f95433-fece-4bf8-a161-0e2c0c229dc4",
   "metadata": {},
   "source": [
    "Aggregate"
   ]
  },
  {
   "cell_type": "code",
   "execution_count": 34,
   "id": "f9416196-b30e-4838-8535-3f85d4188942",
   "metadata": {},
   "outputs": [],
   "source": [
    "deaths_by_day = deaths_df.groupby([\n",
    "    \"date_of_death\",\n",
    "    \"place_of_death_county\"\n",
    "]).size().rename(\"deaths\").reset_index().rename(\n",
    "    columns={\"date_of_death\":\"date\", \"place_of_death_county\":\"county\"}\n",
    ")"
   ]
  },
  {
   "cell_type": "markdown",
   "id": "e525176e-1d2b-4a8a-b7f5-aeb18c14586f",
   "metadata": {},
   "source": [
    "Backfill"
   ]
  },
  {
   "cell_type": "code",
   "execution_count": 35,
   "id": "159b22f6-9857-47b2-8924-87ca8abc64b3",
   "metadata": {},
   "outputs": [],
   "source": [
    "backfilled_deaths_by_day = (\n",
    "    deaths_by_day.set_index([\"county\", \"date\"])\n",
    "    .unstack([\"county\"])\n",
    "    .stack(\"county\", dropna=False)\n",
    "    .reset_index()\n",
    "    .sort_values([\"county\", \"date\"])\n",
    ").fillna(0)"
   ]
  },
  {
   "cell_type": "markdown",
   "id": "584bb016-05bf-4a51-a0df-ed3b9590bb70",
   "metadata": {},
   "source": [
    "Annotate"
   ]
  },
  {
   "cell_type": "code",
   "execution_count": 36,
   "id": "55366d43-db3f-43f4-80f1-5702c7faa5f3",
   "metadata": {},
   "outputs": [],
   "source": [
    "backfilled_deaths_by_day['day_name'] = backfilled_deaths_by_day['date'].dt.day_name()"
   ]
  },
  {
   "cell_type": "code",
   "execution_count": 37,
   "id": "e6a4493e-8c2b-44fa-a457-121a3d3416c7",
   "metadata": {},
   "outputs": [],
   "source": [
    "backfilled_deaths_by_day['is_weekend'] = backfilled_deaths_by_day.day_name.isin(\n",
    "    ['Saturday', 'Sunday']\n",
    ")"
   ]
  },
  {
   "cell_type": "code",
   "execution_count": 38,
   "id": "e0a0846e-6e87-457c-b9b0-57b40519daca",
   "metadata": {},
   "outputs": [],
   "source": [
    "backfilled_deaths_by_day['day'] = backfilled_deaths_by_day['date'].dt.day"
   ]
  },
  {
   "cell_type": "code",
   "execution_count": 39,
   "id": "4178138e-01aa-479e-a30b-a50eae81e1d2",
   "metadata": {},
   "outputs": [],
   "source": [
    "backfilled_deaths_by_day['month'] = backfilled_deaths_by_day['date'].dt.month"
   ]
  },
  {
   "cell_type": "code",
   "execution_count": 40,
   "id": "2423fa34-3677-496a-961a-3feb03170a9b",
   "metadata": {},
   "outputs": [],
   "source": [
    "backfilled_deaths_by_day['year'] = backfilled_deaths_by_day['date'].dt.year"
   ]
  },
  {
   "cell_type": "markdown",
   "id": "f9a8331e-fccd-4b71-b821-4726bb264ba2",
   "metadata": {},
   "source": [
    "Merge pops to deaths"
   ]
  },
  {
   "cell_type": "code",
   "execution_count": 41,
   "id": "c8fb3468-2f5e-433e-b751-610a2b91942d",
   "metadata": {},
   "outputs": [],
   "source": [
    "pops_by_year = pops_df.set_index(\"county\").stack().reset_index().rename(columns={\n",
    "    \"level_1\": \"year\",\n",
    "    0: \"population\"\n",
    "})"
   ]
  },
  {
   "cell_type": "code",
   "execution_count": 42,
   "id": "f2f35ab4-5562-4241-aebb-fc7d12c4e90c",
   "metadata": {},
   "outputs": [],
   "source": [
    "pops_by_year.year = pops_by_year.year.astype(int)"
   ]
  },
  {
   "cell_type": "code",
   "execution_count": 43,
   "id": "68a21de0-8552-476f-b39f-d8874b736ef9",
   "metadata": {},
   "outputs": [],
   "source": [
    "pops_by_year.county = pops_by_year.county.str.upper()"
   ]
  },
  {
   "cell_type": "code",
   "execution_count": 44,
   "id": "9019b2f3-96d5-4fc7-94b9-e13f0ae6d8ce",
   "metadata": {},
   "outputs": [],
   "source": [
    "pops_merge = backfilled_deaths_by_day.merge(pops_by_year, on=[\"county\", \"year\"], how=\"inner\")"
   ]
  },
  {
   "cell_type": "code",
   "execution_count": 45,
   "id": "08d75825-0ef0-4536-8933-5834651794c8",
   "metadata": {},
   "outputs": [
    {
     "data": {
      "text/plain": [
       "211642"
      ]
     },
     "execution_count": 45,
     "metadata": {},
     "output_type": "execute_result"
    }
   ],
   "source": [
    "len(pops_merge)"
   ]
  },
  {
   "cell_type": "code",
   "execution_count": 46,
   "id": "85359b68-90f5-4ab8-b58d-f9233cce5ab3",
   "metadata": {},
   "outputs": [],
   "source": [
    "assert len(pops_merge) == len(backfilled_deaths_by_day)"
   ]
  },
  {
   "cell_type": "markdown",
   "id": "e24e1962-b784-488d-8aa7-8028e22594fb",
   "metadata": {},
   "source": [
    "Merge temps"
   ]
  },
  {
   "cell_type": "code",
   "execution_count": 47,
   "id": "4bc85221-98b0-4b83-aa79-8e79ab925e8c",
   "metadata": {},
   "outputs": [],
   "source": [
    "recent_temps_df.county = recent_temps_df.county.str.upper()"
   ]
  },
  {
   "cell_type": "code",
   "execution_count": 48,
   "id": "5187cd41-9595-4aa8-83ff-b28962911f74",
   "metadata": {},
   "outputs": [],
   "source": [
    "recent_temps_merge = pops_merge.merge(\n",
    "    recent_temps_df,\n",
    "    on=[\"county\", \"date\"],\n",
    "    how=\"inner\"\n",
    ")"
   ]
  },
  {
   "cell_type": "code",
   "execution_count": 49,
   "id": "ba97ff59-c0d6-48af-bc92-f06712e5d133",
   "metadata": {},
   "outputs": [],
   "source": [
    "#assert len(recent_temps_merge) == len(pops_merge) == len(recent_temps_df)"
   ]
  },
  {
   "cell_type": "code",
   "execution_count": 50,
   "id": "0c97e37b-b1c8-489a-9cc6-eed9c42c4522",
   "metadata": {},
   "outputs": [
    {
     "data": {
      "text/html": [
       "<div>\n",
       "<style scoped>\n",
       "    .dataframe tbody tr th:only-of-type {\n",
       "        vertical-align: middle;\n",
       "    }\n",
       "\n",
       "    .dataframe tbody tr th {\n",
       "        vertical-align: top;\n",
       "    }\n",
       "\n",
       "    .dataframe thead th {\n",
       "        text-align: right;\n",
       "    }\n",
       "</style>\n",
       "<table border=\"1\" class=\"dataframe\">\n",
       "  <thead>\n",
       "    <tr style=\"text-align: right;\">\n",
       "      <th></th>\n",
       "      <th>date</th>\n",
       "      <th>county</th>\n",
       "      <th>deaths</th>\n",
       "      <th>day_name</th>\n",
       "      <th>is_weekend</th>\n",
       "      <th>day</th>\n",
       "      <th>month</th>\n",
       "      <th>year</th>\n",
       "      <th>population</th>\n",
       "      <th>tmax_f</th>\n",
       "    </tr>\n",
       "  </thead>\n",
       "  <tbody>\n",
       "    <tr>\n",
       "      <th>0</th>\n",
       "      <td>2010-01-02</td>\n",
       "      <td>ALAMEDA</td>\n",
       "      <td>30.0</td>\n",
       "      <td>Saturday</td>\n",
       "      <td>True</td>\n",
       "      <td>2</td>\n",
       "      <td>1</td>\n",
       "      <td>2010</td>\n",
       "      <td>1516721</td>\n",
       "      <td>61.6</td>\n",
       "    </tr>\n",
       "    <tr>\n",
       "      <th>1</th>\n",
       "      <td>2010-01-03</td>\n",
       "      <td>ALAMEDA</td>\n",
       "      <td>32.0</td>\n",
       "      <td>Sunday</td>\n",
       "      <td>True</td>\n",
       "      <td>3</td>\n",
       "      <td>1</td>\n",
       "      <td>2010</td>\n",
       "      <td>1516721</td>\n",
       "      <td>57.1</td>\n",
       "    </tr>\n",
       "    <tr>\n",
       "      <th>2</th>\n",
       "      <td>2010-01-04</td>\n",
       "      <td>ALAMEDA</td>\n",
       "      <td>26.0</td>\n",
       "      <td>Monday</td>\n",
       "      <td>False</td>\n",
       "      <td>4</td>\n",
       "      <td>1</td>\n",
       "      <td>2010</td>\n",
       "      <td>1516721</td>\n",
       "      <td>57.0</td>\n",
       "    </tr>\n",
       "    <tr>\n",
       "      <th>3</th>\n",
       "      <td>2010-01-05</td>\n",
       "      <td>ALAMEDA</td>\n",
       "      <td>29.0</td>\n",
       "      <td>Tuesday</td>\n",
       "      <td>False</td>\n",
       "      <td>5</td>\n",
       "      <td>1</td>\n",
       "      <td>2010</td>\n",
       "      <td>1516721</td>\n",
       "      <td>54.3</td>\n",
       "    </tr>\n",
       "    <tr>\n",
       "      <th>4</th>\n",
       "      <td>2010-01-06</td>\n",
       "      <td>ALAMEDA</td>\n",
       "      <td>23.0</td>\n",
       "      <td>Wednesday</td>\n",
       "      <td>False</td>\n",
       "      <td>6</td>\n",
       "      <td>1</td>\n",
       "      <td>2010</td>\n",
       "      <td>1516721</td>\n",
       "      <td>55.7</td>\n",
       "    </tr>\n",
       "  </tbody>\n",
       "</table>\n",
       "</div>"
      ],
      "text/plain": [
       "        date   county  deaths   day_name  is_weekend  day  month  year  \\\n",
       "0 2010-01-02  ALAMEDA    30.0   Saturday        True    2      1  2010   \n",
       "1 2010-01-03  ALAMEDA    32.0     Sunday        True    3      1  2010   \n",
       "2 2010-01-04  ALAMEDA    26.0     Monday       False    4      1  2010   \n",
       "3 2010-01-05  ALAMEDA    29.0    Tuesday       False    5      1  2010   \n",
       "4 2010-01-06  ALAMEDA    23.0  Wednesday       False    6      1  2010   \n",
       "\n",
       "   population  tmax_f  \n",
       "0     1516721    61.6  \n",
       "1     1516721    57.1  \n",
       "2     1516721    57.0  \n",
       "3     1516721    54.3  \n",
       "4     1516721    55.7  "
      ]
     },
     "execution_count": 50,
     "metadata": {},
     "output_type": "execute_result"
    }
   ],
   "source": [
    "recent_temps_merge.head()"
   ]
  },
  {
   "cell_type": "code",
   "execution_count": 51,
   "id": "1fcbc5c5-b679-47e5-8b65-42afe1294c72",
   "metadata": {},
   "outputs": [],
   "source": [
    "historic_temps_df.county = historic_temps_df.county.str.upper()"
   ]
  },
  {
   "cell_type": "code",
   "execution_count": 52,
   "id": "b5f83412-11cb-4926-ba63-61774cb363a3",
   "metadata": {},
   "outputs": [],
   "source": [
    "historic_temps_merge = recent_temps_merge.merge(\n",
    "    historic_temps_df,\n",
    "    on=[\"county\", \"month\", \"day\"],\n",
    "    how=\"inner\"\n",
    ").rename(columns={'tmax_95':'heat_event_threshold_f'})"
   ]
  },
  {
   "cell_type": "code",
   "execution_count": 53,
   "id": "4f891ba2-ca5c-4684-ab4d-93665e883aa2",
   "metadata": {},
   "outputs": [],
   "source": [
    "assert (historic_temps_merge.month.unique() == [5, 6, 7, 8, 9, 10]).all()"
   ]
  },
  {
   "cell_type": "code",
   "execution_count": 54,
   "id": "41dae83d-06bc-4eb9-8a98-33a879958782",
   "metadata": {},
   "outputs": [],
   "source": [
    "historic_temps_merge['heat_event_threshold_f'] = historic_temps_merge['heat_event_threshold_f'].round()"
   ]
  },
  {
   "cell_type": "markdown",
   "id": "5849b75f-0f18-47cf-88d5-9de3725c5d8b",
   "metadata": {},
   "source": [
    "Calculate"
   ]
  },
  {
   "cell_type": "code",
   "execution_count": 55,
   "id": "20375517-54ec-45b0-9bd9-6b81a069ffa3",
   "metadata": {},
   "outputs": [],
   "source": [
    "historic_temps_merge['is_heat_event'] = historic_temps_merge.tmax_f >= historic_temps_merge.heat_event_threshold_f"
   ]
  },
  {
   "cell_type": "markdown",
   "id": "6d294833-5932-4347-ae1d-365dc40247e0",
   "metadata": {},
   "source": [
    "Export"
   ]
  },
  {
   "cell_type": "code",
   "execution_count": 56,
   "id": "33acf916-7a9e-44cc-846f-b96bea5dead4",
   "metadata": {},
   "outputs": [],
   "source": [
    "historic_temps_merge.to_csv(\"../output/totals-by-day.csv\", index=False)"
   ]
  }
 ],
 "metadata": {
  "kernelspec": {
   "display_name": "Python 3 (ipykernel)",
   "language": "python",
   "name": "python3"
  },
  "language_info": {
   "codemirror_mode": {
    "name": "ipython",
    "version": 3
   },
   "file_extension": ".py",
   "mimetype": "text/x-python",
   "name": "python",
   "nbconvert_exporter": "python",
   "pygments_lexer": "ipython3",
   "version": "3.8.11"
  }
 },
 "nbformat": 4,
 "nbformat_minor": 5
}
